{
 "cells": [
  {
   "cell_type": "code",
   "execution_count": 1,
   "metadata": {},
   "outputs": [],
   "source": [
    "from gensim.models import Word2Vec\n",
    "from scipy.spatial.distance import cosine\n",
    "from sklearn.metrics.pairwise import cosine_similarity\n",
    "import numpy as np\n",
    "import pandas as pd\n",
    "import matplotlib.pyplot as plt\n",
    "import pickle"
   ]
  },
  {
   "cell_type": "code",
   "execution_count": 2,
   "metadata": {},
   "outputs": [],
   "source": [
    "with open ('./Guardian_Pre.pkl', 'rb') as p:\n",
    "    guardian_pre = pickle.load(p)\n",
    "    guardianpre_transmat = guardian_pre[2]\n",
    "    guardian_pre = dict(zip(guardian_pre[0], guardian_pre[1]))\n",
    "\n",
    "with open ('./Guardian_Post.pkl', 'rb') as p:\n",
    "    guardian_post = pickle.load(p)\n",
    "    guardianpost_transmat = guardian_post[2]\n",
    "    guardian_post = dict(zip(guardian_post[0], guardian_post[1]))\n",
    "    \n",
    "with open ('./Daily Mail_Pre.pkl', 'rb') as p:\n",
    "    dm_pre = pickle.load(p)\n",
    "    dmpre_transmat = dm_pre[2]\n",
    "    dm_pre = dict(zip(dm_pre[0], dm_pre[1]))\n",
    "\n",
    "with open ('./Daily Mail_Post.pkl', 'rb') as p:\n",
    "    dm_post = pickle.load(p)\n",
    "    dmpost_transmat = dm_post[2]\n",
    "    dm_post = dict(zip(dm_post[0], dm_post[1]))"
   ]
  },
  {
   "cell_type": "code",
   "execution_count": 3,
   "metadata": {},
   "outputs": [
    {
     "data": {
      "text/plain": [
       "2979"
      ]
     },
     "execution_count": 3,
     "metadata": {},
     "output_type": "execute_result"
    }
   ],
   "source": [
    "common_words = list(\n",
    "    set.intersection(\n",
    "    set(guardian_pre.keys()), \n",
    "    set(guardian_post.keys()),\n",
    "    set(dm_pre.keys()),\n",
    "    set(dm_post.keys())\n",
    "    )\n",
    ")\n",
    "len(common_words)"
   ]
  },
  {
   "cell_type": "code",
   "execution_count": 4,
   "metadata": {},
   "outputs": [],
   "source": [
    "guardian_change = dict(zip(common_words, np.array([guardian_post[w] - guardian_pre[w] for w in common_words])))\n",
    "dm_change = dict(zip(common_words, np.array([dm_post[w] - dm_pre[w] for w in common_words])))"
   ]
  },
  {
   "cell_type": "code",
   "execution_count": 5,
   "metadata": {},
   "outputs": [],
   "source": [
    "change_df = pd.DataFrame({\n",
    "    'word': common_words,\n",
    "    'change_similarity': [1 - cosine(guardian_change[w], dm_change[w]) for w in common_words]\n",
    "})"
   ]
  },
  {
   "cell_type": "markdown",
   "metadata": {},
   "source": [
    "### Most Polarising Words"
   ]
  },
  {
   "cell_type": "code",
   "execution_count": 22,
   "metadata": {},
   "outputs": [
    {
     "data": {
      "text/html": [
       "<div>\n",
       "<style scoped>\n",
       "    .dataframe tbody tr th:only-of-type {\n",
       "        vertical-align: middle;\n",
       "    }\n",
       "\n",
       "    .dataframe tbody tr th {\n",
       "        vertical-align: top;\n",
       "    }\n",
       "\n",
       "    .dataframe thead th {\n",
       "        text-align: right;\n",
       "    }\n",
       "</style>\n",
       "<table border=\"1\" class=\"dataframe\">\n",
       "  <thead>\n",
       "    <tr style=\"text-align: right;\">\n",
       "      <th></th>\n",
       "      <th>word</th>\n",
       "      <th>change_similarity</th>\n",
       "    </tr>\n",
       "  </thead>\n",
       "  <tbody>\n",
       "    <tr>\n",
       "      <th>405</th>\n",
       "      <td>honest</td>\n",
       "      <td>-0.365920</td>\n",
       "    </tr>\n",
       "    <tr>\n",
       "      <th>1104</th>\n",
       "      <td>profile</td>\n",
       "      <td>-0.353575</td>\n",
       "    </tr>\n",
       "    <tr>\n",
       "      <th>1189</th>\n",
       "      <td>forest</td>\n",
       "      <td>-0.345167</td>\n",
       "    </tr>\n",
       "    <tr>\n",
       "      <th>1250</th>\n",
       "      <td>sleep</td>\n",
       "      <td>-0.340956</td>\n",
       "    </tr>\n",
       "    <tr>\n",
       "      <th>2441</th>\n",
       "      <td>attach</td>\n",
       "      <td>-0.315799</td>\n",
       "    </tr>\n",
       "    <tr>\n",
       "      <th>2093</th>\n",
       "      <td>worth</td>\n",
       "      <td>-0.305722</td>\n",
       "    </tr>\n",
       "    <tr>\n",
       "      <th>171</th>\n",
       "      <td>constantly</td>\n",
       "      <td>-0.299763</td>\n",
       "    </tr>\n",
       "    <tr>\n",
       "      <th>2044</th>\n",
       "      <td>numerous</td>\n",
       "      <td>-0.298154</td>\n",
       "    </tr>\n",
       "    <tr>\n",
       "      <th>2202</th>\n",
       "      <td>friend</td>\n",
       "      <td>-0.286876</td>\n",
       "    </tr>\n",
       "    <tr>\n",
       "      <th>2021</th>\n",
       "      <td>equal</td>\n",
       "      <td>-0.281106</td>\n",
       "    </tr>\n",
       "    <tr>\n",
       "      <th>2938</th>\n",
       "      <td>treasury</td>\n",
       "      <td>-0.278812</td>\n",
       "    </tr>\n",
       "    <tr>\n",
       "      <th>1297</th>\n",
       "      <td>overturn</td>\n",
       "      <td>-0.275244</td>\n",
       "    </tr>\n",
       "    <tr>\n",
       "      <th>1261</th>\n",
       "      <td>giant</td>\n",
       "      <td>-0.260695</td>\n",
       "    </tr>\n",
       "    <tr>\n",
       "      <th>1502</th>\n",
       "      <td>certain</td>\n",
       "      <td>-0.253036</td>\n",
       "    </tr>\n",
       "    <tr>\n",
       "      <th>1547</th>\n",
       "      <td>comply</td>\n",
       "      <td>-0.251669</td>\n",
       "    </tr>\n",
       "    <tr>\n",
       "      <th>2840</th>\n",
       "      <td>remarkable</td>\n",
       "      <td>-0.242338</td>\n",
       "    </tr>\n",
       "    <tr>\n",
       "      <th>496</th>\n",
       "      <td>treat</td>\n",
       "      <td>-0.241575</td>\n",
       "    </tr>\n",
       "    <tr>\n",
       "      <th>2071</th>\n",
       "      <td>beijing</td>\n",
       "      <td>-0.238802</td>\n",
       "    </tr>\n",
       "    <tr>\n",
       "      <th>2149</th>\n",
       "      <td>industry</td>\n",
       "      <td>-0.236669</td>\n",
       "    </tr>\n",
       "    <tr>\n",
       "      <th>770</th>\n",
       "      <td>40</td>\n",
       "      <td>-0.235923</td>\n",
       "    </tr>\n",
       "    <tr>\n",
       "      <th>948</th>\n",
       "      <td>level</td>\n",
       "      <td>-0.234471</td>\n",
       "    </tr>\n",
       "    <tr>\n",
       "      <th>1062</th>\n",
       "      <td>various</td>\n",
       "      <td>-0.230419</td>\n",
       "    </tr>\n",
       "    <tr>\n",
       "      <th>1927</th>\n",
       "      <td>dismiss</td>\n",
       "      <td>-0.230417</td>\n",
       "    </tr>\n",
       "    <tr>\n",
       "      <th>355</th>\n",
       "      <td>instal</td>\n",
       "      <td>-0.227869</td>\n",
       "    </tr>\n",
       "    <tr>\n",
       "      <th>2083</th>\n",
       "      <td>writer</td>\n",
       "      <td>-0.227642</td>\n",
       "    </tr>\n",
       "    <tr>\n",
       "      <th>1122</th>\n",
       "      <td>poll</td>\n",
       "      <td>-0.225306</td>\n",
       "    </tr>\n",
       "    <tr>\n",
       "      <th>2501</th>\n",
       "      <td>succeed</td>\n",
       "      <td>-0.224244</td>\n",
       "    </tr>\n",
       "    <tr>\n",
       "      <th>2838</th>\n",
       "      <td>bbc</td>\n",
       "      <td>-0.222511</td>\n",
       "    </tr>\n",
       "    <tr>\n",
       "      <th>946</th>\n",
       "      <td>type</td>\n",
       "      <td>-0.220083</td>\n",
       "    </tr>\n",
       "    <tr>\n",
       "      <th>2748</th>\n",
       "      <td>join</td>\n",
       "      <td>-0.218762</td>\n",
       "    </tr>\n",
       "    <tr>\n",
       "      <th>2940</th>\n",
       "      <td>series</td>\n",
       "      <td>-0.218321</td>\n",
       "    </tr>\n",
       "    <tr>\n",
       "      <th>2271</th>\n",
       "      <td>landmark</td>\n",
       "      <td>-0.217451</td>\n",
       "    </tr>\n",
       "    <tr>\n",
       "      <th>2877</th>\n",
       "      <td>european</td>\n",
       "      <td>-0.217102</td>\n",
       "    </tr>\n",
       "    <tr>\n",
       "      <th>1771</th>\n",
       "      <td>dramatic</td>\n",
       "      <td>-0.216989</td>\n",
       "    </tr>\n",
       "    <tr>\n",
       "      <th>522</th>\n",
       "      <td>someone</td>\n",
       "      <td>-0.216526</td>\n",
       "    </tr>\n",
       "    <tr>\n",
       "      <th>2776</th>\n",
       "      <td>variety</td>\n",
       "      <td>-0.216413</td>\n",
       "    </tr>\n",
       "    <tr>\n",
       "      <th>791</th>\n",
       "      <td>remark</td>\n",
       "      <td>-0.214192</td>\n",
       "    </tr>\n",
       "    <tr>\n",
       "      <th>722</th>\n",
       "      <td>thus</td>\n",
       "      <td>-0.212196</td>\n",
       "    </tr>\n",
       "    <tr>\n",
       "      <th>2696</th>\n",
       "      <td>just</td>\n",
       "      <td>-0.211822</td>\n",
       "    </tr>\n",
       "    <tr>\n",
       "      <th>558</th>\n",
       "      <td>ok</td>\n",
       "      <td>-0.211708</td>\n",
       "    </tr>\n",
       "    <tr>\n",
       "      <th>539</th>\n",
       "      <td>resource</td>\n",
       "      <td>-0.210408</td>\n",
       "    </tr>\n",
       "    <tr>\n",
       "      <th>1180</th>\n",
       "      <td>deserve</td>\n",
       "      <td>-0.208290</td>\n",
       "    </tr>\n",
       "    <tr>\n",
       "      <th>2309</th>\n",
       "      <td>portray</td>\n",
       "      <td>-0.207323</td>\n",
       "    </tr>\n",
       "    <tr>\n",
       "      <th>908</th>\n",
       "      <td>gang</td>\n",
       "      <td>-0.207117</td>\n",
       "    </tr>\n",
       "    <tr>\n",
       "      <th>1815</th>\n",
       "      <td>human</td>\n",
       "      <td>-0.206123</td>\n",
       "    </tr>\n",
       "    <tr>\n",
       "      <th>1888</th>\n",
       "      <td>ask</td>\n",
       "      <td>-0.204653</td>\n",
       "    </tr>\n",
       "    <tr>\n",
       "      <th>1773</th>\n",
       "      <td>supporter</td>\n",
       "      <td>-0.204435</td>\n",
       "    </tr>\n",
       "    <tr>\n",
       "      <th>252</th>\n",
       "      <td>ball</td>\n",
       "      <td>-0.203592</td>\n",
       "    </tr>\n",
       "    <tr>\n",
       "      <th>129</th>\n",
       "      <td>painful</td>\n",
       "      <td>-0.200231</td>\n",
       "    </tr>\n",
       "    <tr>\n",
       "      <th>842</th>\n",
       "      <td>branch</td>\n",
       "      <td>-0.198251</td>\n",
       "    </tr>\n",
       "  </tbody>\n",
       "</table>\n",
       "</div>"
      ],
      "text/plain": [
       "            word  change_similarity\n",
       "405       honest          -0.365920\n",
       "1104     profile          -0.353575\n",
       "1189      forest          -0.345167\n",
       "1250       sleep          -0.340956\n",
       "2441      attach          -0.315799\n",
       "2093       worth          -0.305722\n",
       "171   constantly          -0.299763\n",
       "2044    numerous          -0.298154\n",
       "2202      friend          -0.286876\n",
       "2021       equal          -0.281106\n",
       "2938    treasury          -0.278812\n",
       "1297    overturn          -0.275244\n",
       "1261       giant          -0.260695\n",
       "1502     certain          -0.253036\n",
       "1547      comply          -0.251669\n",
       "2840  remarkable          -0.242338\n",
       "496        treat          -0.241575\n",
       "2071     beijing          -0.238802\n",
       "2149    industry          -0.236669\n",
       "770           40          -0.235923\n",
       "948        level          -0.234471\n",
       "1062     various          -0.230419\n",
       "1927     dismiss          -0.230417\n",
       "355       instal          -0.227869\n",
       "2083      writer          -0.227642\n",
       "1122        poll          -0.225306\n",
       "2501     succeed          -0.224244\n",
       "2838         bbc          -0.222511\n",
       "946         type          -0.220083\n",
       "2748        join          -0.218762\n",
       "2940      series          -0.218321\n",
       "2271    landmark          -0.217451\n",
       "2877    european          -0.217102\n",
       "1771    dramatic          -0.216989\n",
       "522      someone          -0.216526\n",
       "2776     variety          -0.216413\n",
       "791       remark          -0.214192\n",
       "722         thus          -0.212196\n",
       "2696        just          -0.211822\n",
       "558           ok          -0.211708\n",
       "539     resource          -0.210408\n",
       "1180     deserve          -0.208290\n",
       "2309     portray          -0.207323\n",
       "908         gang          -0.207117\n",
       "1815       human          -0.206123\n",
       "1888         ask          -0.204653\n",
       "1773   supporter          -0.204435\n",
       "252         ball          -0.203592\n",
       "129      painful          -0.200231\n",
       "842       branch          -0.198251"
      ]
     },
     "execution_count": 22,
     "metadata": {},
     "output_type": "execute_result"
    }
   ],
   "source": [
    "change_df.sort_values('change_similarity', ascending = True).head(50)"
   ]
  },
  {
   "cell_type": "markdown",
   "metadata": {},
   "source": [
    "### Least Polarising Words"
   ]
  },
  {
   "cell_type": "code",
   "execution_count": 23,
   "metadata": {},
   "outputs": [
    {
     "data": {
      "text/html": [
       "<div>\n",
       "<style scoped>\n",
       "    .dataframe tbody tr th:only-of-type {\n",
       "        vertical-align: middle;\n",
       "    }\n",
       "\n",
       "    .dataframe tbody tr th {\n",
       "        vertical-align: top;\n",
       "    }\n",
       "\n",
       "    .dataframe thead th {\n",
       "        text-align: right;\n",
       "    }\n",
       "</style>\n",
       "<table border=\"1\" class=\"dataframe\">\n",
       "  <thead>\n",
       "    <tr style=\"text-align: right;\">\n",
       "      <th></th>\n",
       "      <th>word</th>\n",
       "      <th>change_similarity</th>\n",
       "    </tr>\n",
       "  </thead>\n",
       "  <tbody>\n",
       "    <tr>\n",
       "      <th>895</th>\n",
       "      <td>2016</td>\n",
       "      <td>0.522402</td>\n",
       "    </tr>\n",
       "    <tr>\n",
       "      <th>385</th>\n",
       "      <td>2015</td>\n",
       "      <td>0.509888</td>\n",
       "    </tr>\n",
       "    <tr>\n",
       "      <th>2779</th>\n",
       "      <td>2013</td>\n",
       "      <td>0.439129</td>\n",
       "    </tr>\n",
       "    <tr>\n",
       "      <th>728</th>\n",
       "      <td>2014</td>\n",
       "      <td>0.381713</td>\n",
       "    </tr>\n",
       "    <tr>\n",
       "      <th>1047</th>\n",
       "      <td>legislation</td>\n",
       "      <td>0.363693</td>\n",
       "    </tr>\n",
       "    <tr>\n",
       "      <th>2582</th>\n",
       "      <td>become</td>\n",
       "      <td>0.346639</td>\n",
       "    </tr>\n",
       "    <tr>\n",
       "      <th>2592</th>\n",
       "      <td>importance</td>\n",
       "      <td>0.336429</td>\n",
       "    </tr>\n",
       "    <tr>\n",
       "      <th>2461</th>\n",
       "      <td>north korea</td>\n",
       "      <td>0.330585</td>\n",
       "    </tr>\n",
       "    <tr>\n",
       "      <th>1205</th>\n",
       "      <td>principle</td>\n",
       "      <td>0.330336</td>\n",
       "    </tr>\n",
       "    <tr>\n",
       "      <th>1868</th>\n",
       "      <td>philippines</td>\n",
       "      <td>0.328946</td>\n",
       "    </tr>\n",
       "    <tr>\n",
       "      <th>2903</th>\n",
       "      <td>israel</td>\n",
       "      <td>0.326929</td>\n",
       "    </tr>\n",
       "    <tr>\n",
       "      <th>2277</th>\n",
       "      <td>campaign</td>\n",
       "      <td>0.324151</td>\n",
       "    </tr>\n",
       "    <tr>\n",
       "      <th>392</th>\n",
       "      <td>proper</td>\n",
       "      <td>0.320006</td>\n",
       "    </tr>\n",
       "    <tr>\n",
       "      <th>1574</th>\n",
       "      <td>france</td>\n",
       "      <td>0.318461</td>\n",
       "    </tr>\n",
       "    <tr>\n",
       "      <th>2609</th>\n",
       "      <td>argument</td>\n",
       "      <td>0.317701</td>\n",
       "    </tr>\n",
       "    <tr>\n",
       "      <th>1518</th>\n",
       "      <td>wealthy</td>\n",
       "      <td>0.310701</td>\n",
       "    </tr>\n",
       "    <tr>\n",
       "      <th>1538</th>\n",
       "      <td>gas</td>\n",
       "      <td>0.299240</td>\n",
       "    </tr>\n",
       "    <tr>\n",
       "      <th>751</th>\n",
       "      <td>october</td>\n",
       "      <td>0.297372</td>\n",
       "    </tr>\n",
       "    <tr>\n",
       "      <th>1077</th>\n",
       "      <td>russia</td>\n",
       "      <td>0.293944</td>\n",
       "    </tr>\n",
       "    <tr>\n",
       "      <th>692</th>\n",
       "      <td>burden</td>\n",
       "      <td>0.293938</td>\n",
       "    </tr>\n",
       "    <tr>\n",
       "      <th>652</th>\n",
       "      <td>labour</td>\n",
       "      <td>0.292796</td>\n",
       "    </tr>\n",
       "    <tr>\n",
       "      <th>1955</th>\n",
       "      <td>smile</td>\n",
       "      <td>0.292781</td>\n",
       "    </tr>\n",
       "    <tr>\n",
       "      <th>117</th>\n",
       "      <td>tenant</td>\n",
       "      <td>0.287742</td>\n",
       "    </tr>\n",
       "    <tr>\n",
       "      <th>1645</th>\n",
       "      <td>region</td>\n",
       "      <td>0.285316</td>\n",
       "    </tr>\n",
       "    <tr>\n",
       "      <th>585</th>\n",
       "      <td>employment</td>\n",
       "      <td>0.283255</td>\n",
       "    </tr>\n",
       "    <tr>\n",
       "      <th>1806</th>\n",
       "      <td>immigrant</td>\n",
       "      <td>0.282172</td>\n",
       "    </tr>\n",
       "    <tr>\n",
       "      <th>120</th>\n",
       "      <td>manchester</td>\n",
       "      <td>0.277791</td>\n",
       "    </tr>\n",
       "    <tr>\n",
       "      <th>1948</th>\n",
       "      <td>violence</td>\n",
       "      <td>0.275064</td>\n",
       "    </tr>\n",
       "    <tr>\n",
       "      <th>1719</th>\n",
       "      <td>give_evidence</td>\n",
       "      <td>0.274597</td>\n",
       "    </tr>\n",
       "    <tr>\n",
       "      <th>206</th>\n",
       "      <td>belgian</td>\n",
       "      <td>0.273693</td>\n",
       "    </tr>\n",
       "    <tr>\n",
       "      <th>2161</th>\n",
       "      <td>climate_change</td>\n",
       "      <td>0.272902</td>\n",
       "    </tr>\n",
       "    <tr>\n",
       "      <th>2166</th>\n",
       "      <td>cuba</td>\n",
       "      <td>0.272541</td>\n",
       "    </tr>\n",
       "    <tr>\n",
       "      <th>2434</th>\n",
       "      <td>eventually</td>\n",
       "      <td>0.269507</td>\n",
       "    </tr>\n",
       "    <tr>\n",
       "      <th>888</th>\n",
       "      <td>berlin</td>\n",
       "      <td>0.268020</td>\n",
       "    </tr>\n",
       "    <tr>\n",
       "      <th>2463</th>\n",
       "      <td>southern</td>\n",
       "      <td>0.265797</td>\n",
       "    </tr>\n",
       "    <tr>\n",
       "      <th>601</th>\n",
       "      <td>roof</td>\n",
       "      <td>0.265641</td>\n",
       "    </tr>\n",
       "    <tr>\n",
       "      <th>1053</th>\n",
       "      <td>another</td>\n",
       "      <td>0.264821</td>\n",
       "    </tr>\n",
       "    <tr>\n",
       "      <th>2862</th>\n",
       "      <td>praise</td>\n",
       "      <td>0.262894</td>\n",
       "    </tr>\n",
       "    <tr>\n",
       "      <th>1903</th>\n",
       "      <td>johnson</td>\n",
       "      <td>0.262436</td>\n",
       "    </tr>\n",
       "    <tr>\n",
       "      <th>665</th>\n",
       "      <td>belong</td>\n",
       "      <td>0.261279</td>\n",
       "    </tr>\n",
       "    <tr>\n",
       "      <th>59</th>\n",
       "      <td>conservative</td>\n",
       "      <td>0.259247</td>\n",
       "    </tr>\n",
       "    <tr>\n",
       "      <th>229</th>\n",
       "      <td>enough</td>\n",
       "      <td>0.255855</td>\n",
       "    </tr>\n",
       "    <tr>\n",
       "      <th>1661</th>\n",
       "      <td>injure</td>\n",
       "      <td>0.254549</td>\n",
       "    </tr>\n",
       "    <tr>\n",
       "      <th>1247</th>\n",
       "      <td>significant</td>\n",
       "      <td>0.254138</td>\n",
       "    </tr>\n",
       "    <tr>\n",
       "      <th>2532</th>\n",
       "      <td>parliament</td>\n",
       "      <td>0.254065</td>\n",
       "    </tr>\n",
       "    <tr>\n",
       "      <th>2221</th>\n",
       "      <td>alive</td>\n",
       "      <td>0.253918</td>\n",
       "    </tr>\n",
       "    <tr>\n",
       "      <th>1818</th>\n",
       "      <td>outbreak</td>\n",
       "      <td>0.252496</td>\n",
       "    </tr>\n",
       "    <tr>\n",
       "      <th>1253</th>\n",
       "      <td>rebel</td>\n",
       "      <td>0.252320</td>\n",
       "    </tr>\n",
       "    <tr>\n",
       "      <th>2544</th>\n",
       "      <td>slip</td>\n",
       "      <td>0.251681</td>\n",
       "    </tr>\n",
       "    <tr>\n",
       "      <th>655</th>\n",
       "      <td>survey</td>\n",
       "      <td>0.250691</td>\n",
       "    </tr>\n",
       "  </tbody>\n",
       "</table>\n",
       "</div>"
      ],
      "text/plain": [
       "                word  change_similarity\n",
       "895             2016           0.522402\n",
       "385             2015           0.509888\n",
       "2779            2013           0.439129\n",
       "728             2014           0.381713\n",
       "1047     legislation           0.363693\n",
       "2582          become           0.346639\n",
       "2592      importance           0.336429\n",
       "2461     north korea           0.330585\n",
       "1205       principle           0.330336\n",
       "1868     philippines           0.328946\n",
       "2903          israel           0.326929\n",
       "2277        campaign           0.324151\n",
       "392           proper           0.320006\n",
       "1574          france           0.318461\n",
       "2609        argument           0.317701\n",
       "1518         wealthy           0.310701\n",
       "1538             gas           0.299240\n",
       "751          october           0.297372\n",
       "1077          russia           0.293944\n",
       "692           burden           0.293938\n",
       "652           labour           0.292796\n",
       "1955           smile           0.292781\n",
       "117           tenant           0.287742\n",
       "1645          region           0.285316\n",
       "585       employment           0.283255\n",
       "1806       immigrant           0.282172\n",
       "120       manchester           0.277791\n",
       "1948        violence           0.275064\n",
       "1719   give_evidence           0.274597\n",
       "206          belgian           0.273693\n",
       "2161  climate_change           0.272902\n",
       "2166            cuba           0.272541\n",
       "2434      eventually           0.269507\n",
       "888           berlin           0.268020\n",
       "2463        southern           0.265797\n",
       "601             roof           0.265641\n",
       "1053         another           0.264821\n",
       "2862          praise           0.262894\n",
       "1903         johnson           0.262436\n",
       "665           belong           0.261279\n",
       "59      conservative           0.259247\n",
       "229           enough           0.255855\n",
       "1661          injure           0.254549\n",
       "1247     significant           0.254138\n",
       "2532      parliament           0.254065\n",
       "2221           alive           0.253918\n",
       "1818        outbreak           0.252496\n",
       "1253           rebel           0.252320\n",
       "2544            slip           0.251681\n",
       "655           survey           0.250691"
      ]
     },
     "execution_count": 23,
     "metadata": {},
     "output_type": "execute_result"
    }
   ],
   "source": [
    "change_df.sort_values('change_similarity', ascending = False).head(50)"
   ]
  },
  {
   "cell_type": "markdown",
   "metadata": {},
   "source": [
    "# Foreign Policy"
   ]
  },
  {
   "cell_type": "markdown",
   "metadata": {},
   "source": [
    "# Similar changes"
   ]
  },
  {
   "cell_type": "markdown",
   "metadata": {},
   "source": [
    "A lot of countries seem to have changed in similar direction between the two outlets. Lets look at Russia for example."
   ]
  },
  {
   "cell_type": "code",
   "execution_count": 24,
   "metadata": {},
   "outputs": [
    {
     "data": {
      "text/plain": [
       "0.2939436435699463"
      ]
     },
     "execution_count": 24,
     "metadata": {},
     "output_type": "execute_result"
    }
   ],
   "source": [
    "1 - cosine(guardian_change['russia'], dm_change['russia']) "
   ]
  },
  {
   "cell_type": "code",
   "execution_count": 28,
   "metadata": {},
   "outputs": [
    {
     "name": "stdout",
     "output_type": "stream",
     "text": [
      "Top 10 Closest Words to Change\n"
     ]
    },
    {
     "data": {
      "text/plain": [
       "[('raid', 0.24807405471801758),\n",
       " ('investigate', 0.2474696934223175),\n",
       " ('assault', 0.24744580686092377),\n",
       " ('arrest', 0.2356753945350647),\n",
       " ('guilty', 0.23482714593410492),\n",
       " ('escape', 0.23182569444179535),\n",
       " ('overturn', 0.22936154901981354),\n",
       " ('trace', 0.22883063554763794),\n",
       " ('perpetrator', 0.22597208619117737),\n",
       " ('hide', 0.2254197597503662)]"
      ]
     },
     "execution_count": 28,
     "metadata": {},
     "output_type": "execute_result"
    }
   ],
   "source": [
    "simchan = [(w, 1 - cosine(guardian_change['russia'], guardian_post[w])) for w in common_words]\n",
    "simchan.sort(key = lambda x: x[1], reverse = True)\n",
    "print('Top 10 Closest Words to Change')\n",
    "simchan[0:10]"
   ]
  },
  {
   "cell_type": "code",
   "execution_count": 30,
   "metadata": {},
   "outputs": [
    {
     "name": "stdout",
     "output_type": "stream",
     "text": [
      "Top 10 Distant Words to Change\n"
     ]
    },
    {
     "data": {
      "text/plain": [
       "[('import', -0.3016241490840912),\n",
       " ('euro', -0.30785349011421204),\n",
       " ('gas', -0.3084356188774109),\n",
       " ('steel', -0.30867668986320496),\n",
       " ('industry', -0.31018462777137756),\n",
       " ('gold', -0.31270831823349),\n",
       " ('jet', -0.3280877470970154),\n",
       " ('energy', -0.3385530710220337),\n",
       " ('oil', -0.34803643822669983),\n",
       " ('market', -0.356217622756958)]"
      ]
     },
     "execution_count": 30,
     "metadata": {},
     "output_type": "execute_result"
    }
   ],
   "source": [
    "print('Top 10 Distant Words to Change')\n",
    "simchan[-10:]"
   ]
  },
  {
   "cell_type": "markdown",
   "metadata": {},
   "source": [
    "# Changes in Opposite Directions"
   ]
  },
  {
   "cell_type": "markdown",
   "metadata": {},
   "source": [
    "## Beijing"
   ]
  },
  {
   "cell_type": "markdown",
   "metadata": {},
   "source": [
    "### Daily Mail"
   ]
  },
  {
   "cell_type": "code",
   "execution_count": 32,
   "metadata": {},
   "outputs": [
    {
     "name": "stdout",
     "output_type": "stream",
     "text": [
      "Top 10 Closest Words to Change\n"
     ]
    },
    {
     "data": {
      "text/plain": [
       "[('undertake', 0.2703135311603546),\n",
       " ('beijing', 0.24956800043582916),\n",
       " ('service', 0.24872776865959167),\n",
       " ('assistance', 0.24673257768154144),\n",
       " ('export', 0.23308145999908447),\n",
       " ('investment', 0.22976772487163544),\n",
       " ('application', 0.22653239965438843),\n",
       " ('organisation', 0.2263706624507904),\n",
       " ('commander', 0.22329914569854736),\n",
       " ('supplier', 0.22234591841697693)]"
      ]
     },
     "execution_count": 32,
     "metadata": {},
     "output_type": "execute_result"
    }
   ],
   "source": [
    "simchan = [(w, 1 - cosine(dm_change['beijing'], dm_post[w])) for w in common_words]\n",
    "simchan.sort(key = lambda x: x[1], reverse = True)\n",
    "print('Top 10 Closest Words to Change')\n",
    "simchan[0:10]"
   ]
  },
  {
   "cell_type": "code",
   "execution_count": 33,
   "metadata": {},
   "outputs": [
    {
     "name": "stdout",
     "output_type": "stream",
     "text": [
      "Top 10 Distant Words to Change\n"
     ]
    },
    {
     "data": {
      "text/plain": [
       "[('constituency', -0.25596514344215393),\n",
       " ('mouth', -0.2589796483516693),\n",
       " ('scare', -0.2589893937110901),\n",
       " ('texas', -0.2614404857158661),\n",
       " ('old', -0.2661895155906677),\n",
       " ('trouble', -0.2663823962211609),\n",
       " ('string', -0.27048492431640625),\n",
       " ('rarely', -0.27249789237976074),\n",
       " ('afraid', -0.27864041924476624),\n",
       " ('scared', -0.2791215777397156)]"
      ]
     },
     "execution_count": 33,
     "metadata": {},
     "output_type": "execute_result"
    }
   ],
   "source": [
    "print('Top 10 Distant Words to Change')\n",
    "simchan[-10:]"
   ]
  },
  {
   "cell_type": "markdown",
   "metadata": {},
   "source": [
    "### Guardian"
   ]
  },
  {
   "cell_type": "code",
   "execution_count": 34,
   "metadata": {},
   "outputs": [
    {
     "name": "stdout",
     "output_type": "stream",
     "text": [
      "Top 10 Closest Words to Change\n"
     ]
    },
    {
     "data": {
      "text/plain": [
       "[('beijing', 0.4008871614933014),\n",
       " ('somebody', 0.3350100815296173),\n",
       " ('unfair', 0.32837921380996704),\n",
       " ('everything', 0.32667508721351624),\n",
       " ('lot_of_people', 0.3201741874217987),\n",
       " ('someone', 0.30441147089004517),\n",
       " (\"n't_think\", 0.2978893518447876),\n",
       " ('ordinary', 0.29530584812164307),\n",
       " ('honest', 0.29243141412734985),\n",
       " ('nice', 0.2917780578136444)]"
      ]
     },
     "execution_count": 34,
     "metadata": {},
     "output_type": "execute_result"
    }
   ],
   "source": [
    "simchan = [(w, 1 - cosine(guardian_change['beijing'], guardian_post[w])) for w in common_words]\n",
    "simchan.sort(key = lambda x: x[1], reverse = True)\n",
    "print('Top 10 Closest Words to Change')\n",
    "simchan[0:10]"
   ]
  },
  {
   "cell_type": "code",
   "execution_count": 35,
   "metadata": {},
   "outputs": [
    {
     "name": "stdout",
     "output_type": "stream",
     "text": [
      "Top 10 Distant Words to Change\n"
     ]
    },
    {
     "data": {
      "text/plain": [
       "[('resume', -0.1954725831747055),\n",
       " ('partnership', -0.19810833036899567),\n",
       " ('emergency', -0.1984114795923233),\n",
       " ('service', -0.20034588873386383),\n",
       " ('unit', -0.21551457047462463),\n",
       " ('attend', -0.2208581566810608),\n",
       " ('rank', -0.2291947901248932),\n",
       " ('three_year', -0.24972888827323914),\n",
       " ('session', -0.2639145255088806),\n",
       " ('schedule', -0.27402547001838684)]"
      ]
     },
     "execution_count": 35,
     "metadata": {},
     "output_type": "execute_result"
    }
   ],
   "source": [
    "print('Top 10 Distant Words to Change')\n",
    "simchan[-10:]"
   ]
  },
  {
   "cell_type": "markdown",
   "metadata": {},
   "source": [
    "## China"
   ]
  },
  {
   "cell_type": "code",
   "execution_count": 36,
   "metadata": {},
   "outputs": [
    {
     "data": {
      "text/plain": [
       "0.052781831473112106"
      ]
     },
     "execution_count": 36,
     "metadata": {},
     "output_type": "execute_result"
    }
   ],
   "source": [
    "1 - cosine(guardian_change['china'], dm_change['china']) "
   ]
  },
  {
   "cell_type": "markdown",
   "metadata": {},
   "source": [
    "### Daily Mail"
   ]
  },
  {
   "cell_type": "code",
   "execution_count": 38,
   "metadata": {},
   "outputs": [
    {
     "name": "stdout",
     "output_type": "stream",
     "text": [
      "Top 10 Closest Words to Change\n"
     ]
    },
    {
     "data": {
      "text/plain": [
       "[('ally', 0.3023122549057007),\n",
       " ('leader', 0.28770801424980164),\n",
       " ('adviser', 0.280696302652359),\n",
       " ('attacker', 0.2754685878753662),\n",
       " ('ball', 0.2751913070678711),\n",
       " ('sanction', 0.2679229974746704),\n",
       " ('intervention', 0.2655593454837799),\n",
       " ('commander', 0.26430821418762207),\n",
       " ('aide', 0.2626778483390808),\n",
       " ('weapon', 0.26155105233192444)]"
      ]
     },
     "execution_count": 38,
     "metadata": {},
     "output_type": "execute_result"
    }
   ],
   "source": [
    "simchan = [(w, 1 - cosine(dm_change['china'], dm_post[w])) for w in common_words]\n",
    "simchan.sort(key = lambda x: x[1], reverse = True)\n",
    "print('Top 10 Closest Words to Change')\n",
    "simchan[0:10]"
   ]
  },
  {
   "cell_type": "code",
   "execution_count": 41,
   "metadata": {},
   "outputs": [
    {
     "name": "stdout",
     "output_type": "stream",
     "text": [
      "Top 10 Distant Words to Change\n"
     ]
    },
    {
     "data": {
      "text/plain": [
       "[('hong kong', -0.2294284999370575),\n",
       " ('2,000', -0.22972124814987183),\n",
       " ('thousand', -0.23895806074142456),\n",
       " ('100,000', -0.24575449526309967),\n",
       " ('65', -0.24616773426532745),\n",
       " ('80', -0.24673137068748474),\n",
       " ('mostly', -0.2601843774318695),\n",
       " ('every_year', -0.2660401165485382),\n",
       " ('handful', -0.28748205304145813),\n",
       " ('rarely', -0.34868142008781433)]"
      ]
     },
     "execution_count": 41,
     "metadata": {},
     "output_type": "execute_result"
    }
   ],
   "source": [
    "print('Top 10 Distant Words to Change')\n",
    "simchan[-10:]"
   ]
  },
  {
   "cell_type": "markdown",
   "metadata": {},
   "source": [
    "### Guardian"
   ]
  },
  {
   "cell_type": "code",
   "execution_count": 42,
   "metadata": {},
   "outputs": [
    {
     "name": "stdout",
     "output_type": "stream",
     "text": [
      "Top 10 Closest Words to Change\n"
     ]
    },
    {
     "data": {
      "text/plain": [
       "[('deserve', 0.37707704305648804),\n",
       " ('take_action', 0.36520788073539734),\n",
       " ('make_sure', 0.3183402717113495),\n",
       " ('pursue', 0.30869999527931213),\n",
       " ('seriously', 0.3000405430793762),\n",
       " ('come_forward', 0.2922962009906769),\n",
       " ('punish', 0.28934183716773987),\n",
       " ('fight', 0.2882879078388214),\n",
       " ('assure', 0.2869657576084137),\n",
       " ('accusation', 0.2866135239601135)]"
      ]
     },
     "execution_count": 42,
     "metadata": {},
     "output_type": "execute_result"
    }
   ],
   "source": [
    "simchan = [(w, 1 - cosine(guardian_change['china'], guardian_post[w])) for w in common_words]\n",
    "simchan.sort(key = lambda x: x[1], reverse = True)\n",
    "print('Top 10 Closest Words to Change')\n",
    "simchan[0:10]"
   ]
  }
 ],
 "metadata": {
  "kernelspec": {
   "display_name": "Python 3",
   "language": "python",
   "name": "python3"
  },
  "language_info": {
   "codemirror_mode": {
    "name": "ipython",
    "version": 3
   },
   "file_extension": ".py",
   "mimetype": "text/x-python",
   "name": "python",
   "nbconvert_exporter": "python",
   "pygments_lexer": "ipython3",
   "version": "3.6.9"
  }
 },
 "nbformat": 4,
 "nbformat_minor": 4
}
